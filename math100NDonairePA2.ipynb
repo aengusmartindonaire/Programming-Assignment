{
 "cells": [
  {
   "cell_type": "markdown",
   "id": "eb2a0a1d-8cfa-490e-8ff7-577f13a418a4",
   "metadata": {
    "tags": []
   },
   "source": [
    "# Programming Assignment\n",
    "\n",
    "Submitted by: Aengus Martin G. Donaire\n",
    "\n",
    "People I asked help from:\n",
    "\n",
    "1. Jimson Paulo Layacan \n",
    "\n",
    "Websites/resources I used for completing this PA:\n",
    "\n",
    "1. https://numpy.org/doc/stable/reference/generated/numpy.cov.html\n",
    "2. https://www.w3schools.com/python/ref_func_zip.asp\n",
    "3. https://www.geeksforgeeks.org/graph-plotting-in-python-set-1/\n",
    "4. https://www.statology.org/create-table-in-python/"
   ]
  },
  {
   "cell_type": "code",
   "execution_count": 1,
   "id": "436f30ff-c7cf-4a2f-8dc5-93d442a9ba49",
   "metadata": {},
   "outputs": [],
   "source": [
    "import numpy as np # Numerical Computing\n",
    "import pandas as pd # Data wrangling\n",
    "from statistics import NormalDist # statistical analysis\n",
    "import matplotlib.pyplot as plt #Plotting\n",
    "from tabulate import tabulate #Tables"
   ]
  },
  {
   "cell_type": "markdown",
   "id": "7e97ff9d-dac4-43da-a72c-41f9cd7d2037",
   "metadata": {},
   "source": [
    "# PART 1"
   ]
  },
  {
   "cell_type": "code",
   "execution_count": 2,
   "id": "96a9e1b0-0530-41a6-bf32-a4a39b730bd7",
   "metadata": {
    "tags": []
   },
   "outputs": [],
   "source": [
    "def undiversified_d_day_p_percent_VaR_delta_normal(\n",
    "    df_lst, N_lst, d, p, \n",
    "    ewma_par_lst=None\n",
    "):\n",
    "    \n",
    "    \"\"\"Returns the undiversified d-day p% VaR of a portfolio of stocks using Delta Normal Approach. \n",
    "    This function uses the N-day logarithmic returns on a stock level in calculating N-day VaR. \n",
    "    \n",
    "    Parameters\n",
    "    ----------\n",
    "    df_lst : list of pandas.DataFrame\n",
    "        each df has two columns: (1) dt [str] and (2) closing price [float]\n",
    "        assumes the dates are arranged from newest to oldest, and the date today is the date on the first row\n",
    "        asssumes that all dfs have the same ordered list of dates\n",
    "        there is one df per stock in the portfolio\n",
    "    N_lst : list (of int)\n",
    "        N_i = number of shares for ith stock (order should be the same as the order in df_lst)\n",
    "    d : int\n",
    "        the value to be used in calculating the d-day VaR (e.g. 1-day, 5-day)\n",
    "    p : int\n",
    "        the value to be used in calculating the p% VaR (e.g. 99, 95)\n",
    "    ewma_par_lst : list (of float)\n",
    "        ewma_par_i = the value of the lambda parameter in an exponentially-weighted moving average model \n",
    "        for ith stock (order should be the same as the order in df_lst) \n",
    "        assumes the value is in range (0,1)\n",
    "        assumes there is no None value in the list\n",
    "    \n",
    "    Returns\n",
    "    -------\n",
    "    float (2 decimal places)\n",
    "        undiversified d-day p% VaR of a portfolio of stocks using Delta Normal Approach\n",
    "    \"\"\"\n",
    "    \n",
    "    #obtain the return column for each df\n",
    "    def get_return(df):\n",
    "        \"\"\"\n",
    "        df is the original df\n",
    "        appends returns series to df\n",
    "        \"\"\"\n",
    "        return np.log(df[\"close\"] / df[\"previous\"])\n",
    "\n",
    "    #obtain the weight column if EWMA model is used\n",
    "    def get_weights(df,d, ewma_par):\n",
    "        \"\"\"\n",
    "        df is the original df\n",
    "        appends weight series to df\n",
    "        \"\"\"\n",
    "        count_returns= len(df[\"close\"]) - d                                         #gives the number of non NaN entries\n",
    "        weight_lst = [ ((1-ewma_par)*(ewma_par)**j) for j in range(count_returns)]  #calculate the weights\n",
    "        df[\"weights\"] = pd.Series(weight_lst)                                       #attach the weights as a column to the df\n",
    "        return df\n",
    "    \n",
    "    #Case 1: I'll use the VaR with EWMA\n",
    "    def get_VaR_with_EWMA(df, N , d , p , ewma_par):    #a helper function to compute the VaR (with EWMA) of each stock in the portfolio.\n",
    "        \n",
    "        \"\"\"Returns the d-day 100(alpha)% VaR of a single stock using Delta Normal Approach.\n",
    "    \n",
    "        Parameters\n",
    "        ----------\n",
    "        df : pandas.DataFrame\n",
    "            has two columns: (1) dt [str] and (2) closing price [float]\n",
    "            assumes the dates are arranged from newest to oldest, and the date today is the date on the first row  \n",
    "        N : int\n",
    "            number of shares for the sole stock\n",
    "        d : int\n",
    "            value of d for the d-day VaR\n",
    "        p : int\n",
    "            the value to be used in calculting the 100(alpha)% VaR (e.g. 0.99, 0.95)\n",
    "        ewma_par : float\n",
    "            the value of the lambda parameter in an EWMA model for the volatility of the stock\n",
    "            assumes the value is in the range (0,1)\n",
    "\n",
    "        Returns\n",
    "        -------\n",
    "        float\n",
    "            d-day 100p% VaR of a single stock using Delta Normal Approach (with EWMA)\n",
    "        \"\"\"\n",
    "        \n",
    "        s0 = df.loc[0,\"close\"]                                  #find the recent price of each stock in the portfolio.\n",
    "        \n",
    "        df[\"previous\"]= df[\"close\"].shift(-d)                   #shift the closing prices d up to compute the return.\n",
    "        df[\"return\"] = df.apply(get_return, axis=1)             #compute the return\n",
    "        \n",
    "        df = get_weights(df, d, ewma_par)                       #obtain the weights\n",
    "        variance = np.nansum(df[\"weights\"] * (df[\"return\"]**2)) #compute the variance (weighted)\n",
    "        sigma = np.sqrt(variance)                               #standard deviation of your stock returns with EWMA \n",
    "        quantile = NormalDist().inv_cdf(p)                      #compute for the quantie of p%\n",
    "        \n",
    "        var = N * s0 * sigma * quantile                         #compute the VaR under this case\n",
    "    \n",
    "        return var\n",
    "    \n",
    "    #Case 2: I'll use the normal VaR\n",
    "    def get_VaR_Normal(df, N ,d, p ):  #a helper function to compute the VaR (without EWMA par) of each stock in the portfolio.\n",
    "        \n",
    "        \"\"\"Returns the d-day 100p% VaR of a single stock using Delta Normal Approach.\n",
    "    \n",
    "        Parameters\n",
    "        ----------\n",
    "        df : pandas.DataFrame\n",
    "            has two columns: (1) dt [str] and (2) closing price [float]\n",
    "            assumes the dates are arranged from newest to oldest, and the date today is the date on the first row  \n",
    "        N : int\n",
    "            number of shares for the sole stock\n",
    "        d : int\n",
    "            the value to be used in calculating the d-day VaR (e.g. 1-day, 5-day)     \n",
    "        p : int\n",
    "            the value to be used in calculting the 100(alpha)% VaR (e.g. 0.99, 0.95)\n",
    "        Returns\n",
    "        -------\n",
    "        float (2 decimal places)\n",
    "            d-day 100p% VaR of a single stock using Delta Normal Approach\n",
    "        \"\"\"\n",
    "\n",
    "        s0 = df.loc[0,\"close\"]                       #find the recent price of each stock in the portfolio.\n",
    "\n",
    "        df[\"previous\"]= df[\"close\"].shift(-d)        #shift the closing prices d up to compute the return.\n",
    "        df[\"return\"] = df.apply(get_return, axis=1)  #compute the return\n",
    "        \n",
    "        sigma = df[\"return\"].std()                   #standard deviation of your stock returns without EWMA\n",
    "        quantile = NormalDist().inv_cdf(p)\n",
    "\n",
    "        var = N * s0 * sigma * quantile              #compute the VaR under this case\n",
    "    \n",
    "        return var                                   #get the var for each stock\n",
    "    \n",
    "    if ewma_par_lst != None: #Uses the Case 1 function to sum stock's VaR (EWMA model)\n",
    "        total = 0            #stores each df's var\n",
    "        for df, N, ewma in zip(df_lst, N_lst, ewma_par_lst):\n",
    "            total += get_VaR_with_EWMA(df, N, d, p, ewma)\n",
    "\n",
    "    else:             #Uses the Case 2 function  (without the EWMA par) to sum stock's VaR\n",
    "        total = 0     #stores each df's var\n",
    "        for df, N in zip(df_lst, N_lst):\n",
    "            total += get_VaR_Normal(df, N, d, p)\n",
    "    \n",
    "    return round(total,2)"
   ]
  },
  {
   "cell_type": "code",
   "execution_count": 3,
   "id": "264ab4ca-eca7-4946-995f-c81642da9d51",
   "metadata": {
    "tags": []
   },
   "outputs": [],
   "source": [
    "def diversified_d_day_p_percent_VaR_delta_normal(\n",
    "    df_lst, N_lst, d, p\n",
    "    ,ewma_par_lst=None,\n",
    "    covar_ewma_par=None\n",
    "):\n",
    "    \n",
    "    \"\"\"Returns the diversified d-day p% VaR of a portfolio of stocks using Delta Normal Approach.\n",
    "       This function uses the N-day logarithmic returns on a stock level in calculating N-day VaR.\n",
    "    \"\"\"  \n",
    "    \"\"\"   \n",
    "    Parameters\n",
    "    ----------\n",
    "    df_lst : list of pandas.DataFrame\n",
    "        each df has two columns: (1) dt [str] and (2) closing price [float]\n",
    "        assumes the dates are arranged from newest to oldest, and the date today is the date on the first row\n",
    "        asssumes that all dfs have the same ordered list of dates\n",
    "        there is one df per stock in the portfolio\n",
    "    N_lst : list (of int)\n",
    "        N_i = number of shares for ith stock (order should be the same as the order in df_lst)\n",
    "    d : int\n",
    "        the value to be used in calculating the d-day VaR (e.g. 1-day, 5-day)\n",
    "    p : int\n",
    "        the value to be used in calculating the p% VaR (e.g. 99, 95)\n",
    "    ewma_par_lst : list (of float)\n",
    "        ewma_par_i = the value of the lambda parameter in an exponentially-weighted moving average model \n",
    "        for ith stock (order should be the same as the order in df_lst) \n",
    "        assumes the value is in range (0,1)\n",
    "        assumes there is no None value in the list\n",
    "    covar_ewma_par : float\n",
    "        the EWMA decay parameter for the covariance of the returns of asset 1 and 2\n",
    "        \n",
    "        ** ASSUMPTION: when you want to use EWMA for an N-asset portfolio, this function will only calculate the EWMA \n",
    "        for a two-asset portfolio **\n",
    "    \n",
    "    Returns\n",
    "    -------\n",
    "    float (2 decimal places)\n",
    "        diversified d-day p% VaR of a portfolio of stocks using Delta Normal Approach\n",
    "    \"\"\"\n",
    "    \n",
    "    #obtain the return column for each df\n",
    "    def get_return(df):\n",
    "        \"\"\"\n",
    "        df is the original df\n",
    "        appends returns series to df\n",
    "        \"\"\"\n",
    "        return np.log(df[\"close\"] / df[\"previous\"])\n",
    "    \n",
    "    #obtain the weight column for each df (for EWMA model)\n",
    "    def get_weights(df,d, ewma_par):\n",
    "        \"\"\"\n",
    "        df is the original df\n",
    "        appends weight series to df\n",
    "        \"\"\"\n",
    "        count_returns= len(df[\"close\"]) - d #gives the number of non NaN entries\n",
    "        weight_lst = [ ((1-ewma_par)*(ewma_par)**j) for j in range(count_returns) ] # calculate the weights\n",
    "        df[\"weights\"] = pd.Series(weight_lst)\n",
    "        return df\n",
    "    \n",
    "    #Obtain the alpha row matrix\n",
    "    S = np.array([])\n",
    "    for df in df_lst:\n",
    "        S=np.append(S, df[\"close\"][0] )\n",
    "    alpha = np.array(N_lst) * S\n",
    "    \n",
    "    #Case 1: I want to use EWMA for 2-asset portfolio\n",
    "    if len(df_lst) == 2 and len(N_lst) == 2 and ( covar_ewma_par != None) and ( 0 < covar_ewma_par < 1 ) \\\n",
    "        and (ewma_par_lst != None) and ( (min(ewma_par_lst) > 0) and ( max(ewma_par_lst) < 1)):\n",
    "        \n",
    "        sigma2 = np.array([])   #storage for the variance of each stock which will be used to construct the variance-covariance matrix\n",
    "        ret = []                #storage for the return of two stocks which will be used to compute for the covar between two returns\n",
    "        for df, ewma_par in zip(df_lst, ewma_par_lst):\n",
    "            \n",
    "            #a matrix where the return of two stocks are contained\n",
    "            df[\"previous\"]= df[\"close\"].shift(-d)\n",
    "            df[\"return\"]=df.apply( get_return, axis=1 )\n",
    "            ret.append(df[\"return\"]) #this will be used to compute the covariance (with EWMA) below.\n",
    "            \n",
    "            #portfolio's variance-covariance matrix\n",
    "            df = get_weights(df, d, ewma_par)\n",
    "            variance = np.nansum(df[\"weights\"] * (df[\"return\"]**2))\n",
    "            sigma2 = np.append(sigma2, variance)  #store each stock's variance (with EWMA model)\n",
    "        \n",
    "            dfc   = get_weights(df, d, covar_ewma_par)  #column matrix weights for the covar_ewma_par\n",
    "   \n",
    "        covar = np.nansum( dfc[\"weights\"] * (ret[0] * ret[1]) )                    #covariance of the returns of asset 1 and 2 (with EWMA)\n",
    "        covm = np.array([[sigma2[0], covar],[covar, sigma2[1]]])                   #formation of variance-covariance matrix of the portfolio\n",
    "        sigmap =  np.sqrt(np.matmul(np.matmul(alpha ,covm),np.transpose(alpha)))   #standard deviation of the portfolio\n",
    "        \n",
    "    #Case 2: I don't want to use EWMA for N-asset portfolio\n",
    "    else:\n",
    "        ret2= [ ]                                       #store for the return matrix of each of the N stocks\n",
    "        for df in df_lst:                               #this part will form a matrix of all the returns (same order in df_lst).\n",
    "            df[\"previous\"]= df[\"close\"].shift(-d)  \n",
    "            df[\"return\"]=df.apply(get_return, axis=1)\n",
    "            df = df.dropna()                            #remove the NaN values each stock's returns\n",
    "            ret2.append(list(df[\"return\"]))             #forming the return matrix for the N-stock portfolio\n",
    "            \n",
    "        covm = np.cov(np.array(ret2))                   #variance-covariance matrix for this case\n",
    "        sigmap = np.sqrt(np.matmul(np.matmul(alpha,covm),np.transpose(alpha)))   #standard deviation of the portfolio\n",
    "    var = sigmap * NormalDist().inv_cdf(p)\n",
    "    \n",
    "    return round(var,2)"
   ]
  },
  {
   "cell_type": "markdown",
   "id": "da789598-0dd4-4c6d-a32a-195eaeb119d7",
   "metadata": {},
   "source": [
    "# PART 2"
   ]
  },
  {
   "cell_type": "markdown",
   "id": "bb9658f1-77b9-474a-8d7d-c63795ea16ba",
   "metadata": {},
   "source": [
    "### DATA REFERENCE LIST"
   ]
  },
  {
   "cell_type": "code",
   "execution_count": 4,
   "id": "69845730-1406-4011-a000-a52fad6bfc56",
   "metadata": {},
   "outputs": [],
   "source": [
    "AC_df   = pd.read_csv(\"https://raw.githubusercontent.com/aengusmartindonaire/ProgrammingAssignment/main/data/AC.csv\")\n",
    "SM_df   = pd.read_csv(\"https://raw.githubusercontent.com/aengusmartindonaire/ProgrammingAssignment/main/data/SM.csv\")\n",
    "MFC_df  = pd.read_csv(\"https://raw.githubusercontent.com/aengusmartindonaire/ProgrammingAssignment/main/data/MFC.csv\")\n",
    "MBT_df  = pd.read_csv(\"https://raw.githubusercontent.com/aengusmartindonaire/ProgrammingAssignment/main/data/MBT.csv\")\n",
    "GLO_df  = pd.read_csv(\"https://raw.githubusercontent.com/aengusmartindonaire/ProgrammingAssignment/main/data/GLO.csv\")"
   ]
  },
  {
   "cell_type": "markdown",
   "id": "6c98ebcc-b283-41c0-8c2a-3c66f40f63ee",
   "metadata": {},
   "source": [
    "### QUESTION A"
   ]
  },
  {
   "cell_type": "code",
   "execution_count": 5,
   "id": "1e98aff4-ebed-468a-a303-463df09db9f8",
   "metadata": {},
   "outputs": [],
   "source": [
    "#Portfolio A\n",
    "\n",
    "df_lstA = [AC_df]\n",
    "N_lstA = [400]\n",
    "ewma_par_lstA = [0.70]"
   ]
  },
  {
   "cell_type": "code",
   "execution_count": 6,
   "id": "3a6d988f-f632-48d1-8cfb-740e60394bde",
   "metadata": {},
   "outputs": [
    {
     "name": "stdout",
     "output_type": "stream",
     "text": [
      "The one-day 95\\% VaR of portfolio A is 813.26.\n"
     ]
    }
   ],
   "source": [
    "#1 Use the delta-normal approach to calculate the portfolio's one-day 95\\% VaR.\n",
    "\n",
    "a1 =undiversified_d_day_p_percent_VaR_delta_normal(df_lstA, N_lstA, 1, 0.95)\n",
    "\n",
    "print(f\"The one-day 95\\% VaR of portfolio A is {a1}.\")"
   ]
  },
  {
   "cell_type": "code",
   "execution_count": 7,
   "id": "f9d2e337-46c2-42dd-8a63-b506b496cc04",
   "metadata": {},
   "outputs": [
    {
     "name": "stdout",
     "output_type": "stream",
     "text": [
      "The ten-day 95\\% VaR of portfolio A is 2055.65.\n"
     ]
    }
   ],
   "source": [
    "#2 Use the ten-day logarithmic returns and the delta-normal approach to compute the portfolio's ten-day 95% VaR.\n",
    "\n",
    "a2 = undiversified_d_day_p_percent_VaR_delta_normal(df_lstA, N_lstA, 10, 0.95)\n",
    "\n",
    "print(f\"The ten-day 95\\% VaR of portfolio A is {a2}.\")"
   ]
  },
  {
   "cell_type": "code",
   "execution_count": 8,
   "id": "a1d92c14-f539-40fa-a042-e6fb0c0b8dc3",
   "metadata": {},
   "outputs": [
    {
     "name": "stdout",
     "output_type": "stream",
     "text": [
      "The one-day 95\\% VaR where stock's volatility follows an EMWA model with 𝜆=0.70 is 272.53.\n"
     ]
    }
   ],
   "source": [
    "#3 Assume that the one-day volatility of the stock follows an exponentially-weighted moving average model with parameter 𝜆=0.70. \n",
    "#  Determine the portfolio's one-day 95% VaR.\n",
    "\n",
    "a3 = undiversified_d_day_p_percent_VaR_delta_normal(df_lstA, N_lstA, 1, 0.95, ewma_par_lstA)\n",
    "\n",
    "print(f\"The one-day 95\\% VaR where stock's volatility follows an EMWA model with 𝜆=0.70 is {a3}.\")"
   ]
  },
  {
   "cell_type": "code",
   "execution_count": 27,
   "id": "65593d28-2385-41d5-8737-a8114ff39689",
   "metadata": {},
   "outputs": [],
   "source": [
    "#Explore and analyze the effect of changing the λ parameter in the resulting VaR."
   ]
  },
  {
   "cell_type": "code",
   "execution_count": 10,
   "id": "03cb88d9-3cbc-4a2e-b7a6-6ad2457c80fc",
   "metadata": {
    "jupyter": {
     "source_hidden": true
    },
    "tags": []
   },
   "outputs": [
    {
     "data": {
      "image/png": "[encoded data removed]",
      "text/plain": [
       "<Figure size 432x288 with 1 Axes>"
      ]
     },
     "metadata": {
      "needs_background": "light"
     },
     "output_type": "display_data"
    }
   ],
   "source": [
    "ewma_par = [ round((i+1)*0.01,2) for i in range(0,99) ]\n",
    "\n",
    "VaR = [ ]  #storage of VaR for a particular λ parameter in ewma_par\n",
    "for ewma_p in ewma_par:\n",
    "    VaR.append( undiversified_d_day_p_percent_VaR_delta_normal(df_lstA, N_lstA, 1, 0.95, [ewma_p]) )\n",
    "\n",
    "plt.scatter( ewma_par , VaR )\n",
    "plt.xlabel( 'λ (ewma_par) ' )\n",
    "plt.ylabel( 'VaR ' )\n",
    "plt.title(\"Effect of changing the λ parameter in the resulting VaR\")\n",
    "plt.show()"
   ]
  },
  {
   "cell_type": "markdown",
   "id": "fa790b11-b51e-4b8a-bb58-d1200005bb9b",
   "metadata": {},
   "source": [
    "Notice that from λ= 0.01 to λ=0.99 (with increments of 0.01), the resulting VaR initially decreases until λ=0.66 (this was manually inspected). After which, the portfolio's VaR starts to increase. As shown in the **scatter plot** above, the curve of the **VaR** when plotted against λ has parabolic shape (opens upward) where it reaches its minimum VaR (in this set of λ)  at λ=0.66. This means that increasing λ from 0.70 (i.e 0.71, 0.72,...) will also increase the porfolio's VaR while decreasing λ from 0.70 up to 0.66 (i.e 0.69, 0.68,...,0.66) will also decrease the portfolio's VaR. After λ=0.66, the portfolio's VaR will then increase to the left."
   ]
  },
  {
   "cell_type": "markdown",
   "id": "65769a15-e945-4915-b879-6717eb758063",
   "metadata": {},
   "source": [
    "### QUESTION B"
   ]
  },
  {
   "cell_type": "code",
   "execution_count": 11,
   "id": "663ffa81-89ea-45dd-8749-73826c43a493",
   "metadata": {},
   "outputs": [],
   "source": [
    "#Portfolio B\n",
    "\n",
    "df_lstB = [SM_df, MFC_df]\n",
    "N_lstB = [500 , 1065]\n",
    "\n",
    "#Portfolio C\n",
    "df_lstC = [AC_df, SM_df]\n",
    "N_lstC = [400 , 500]\n",
    "ewma_par_lstB = [ 0.87, 0.92 ]\n",
    "covar_ewma_par = 0.80"
   ]
  },
  {
   "cell_type": "code",
   "execution_count": 12,
   "id": "b5b20b51-27cb-4ade-94d4-ea347d47dbc1",
   "metadata": {},
   "outputs": [
    {
     "name": "stdout",
     "output_type": "stream",
     "text": [
      "The undiversified one-day 99\\% VaR of portfolio B is 2959.27.\n"
     ]
    }
   ],
   "source": [
    "#Calculate the undiversified one-day 99\\% VaR for Portfolios B.\n",
    "\n",
    "b_1u = undiversified_d_day_p_percent_VaR_delta_normal(df_lstB, N_lstB, 1, 0.99)\n",
    "print (f\"The undiversified one-day 99\\% VaR of portfolio B is {b_1u}.\")"
   ]
  },
  {
   "cell_type": "code",
   "execution_count": 13,
   "id": "d9a7df1d-647b-4ff1-adc2-0b6a3dde24db",
   "metadata": {},
   "outputs": [
    {
     "name": "stdout",
     "output_type": "stream",
     "text": [
      "The diversified one-day 99\\% VaR of portfolio B is 2588.39.\n"
     ]
    }
   ],
   "source": [
    "#Calculate the diversified one-day 99\\% VaR for Portfolios B. \n",
    "\n",
    "b_2d = diversified_d_day_p_percent_VaR_delta_normal(df_lstB, N_lstB, 1, 0.99)\n",
    "print (f\"The diversified one-day 99\\% VaR of portfolio B is {b_2d}.\")"
   ]
  },
  {
   "cell_type": "code",
   "execution_count": 14,
   "id": "ed8b4ea8-ee5c-4f9e-8155-2ebe6921d04e",
   "metadata": {},
   "outputs": [
    {
     "name": "stdout",
     "output_type": "stream",
     "text": [
      "The undiversified one-day 99\\% VaR of portfolio C is 2959.34.\n"
     ]
    }
   ],
   "source": [
    "#Calculate the undiversified one-day 99\\% VaR for Portfolios C. \n",
    "\n",
    "c_3u = undiversified_d_day_p_percent_VaR_delta_normal(df_lstC, N_lstC, 1, 0.99)\n",
    "print (f\"The undiversified one-day 99\\% VaR of portfolio C is {c_3u}.\")"
   ]
  },
  {
   "cell_type": "code",
   "execution_count": 15,
   "id": "7b51d965-c531-4b7a-9d97-44462e53b537",
   "metadata": {},
   "outputs": [
    {
     "name": "stdout",
     "output_type": "stream",
     "text": [
      "The diversified one-day 99\\% VaR of portfolio C is 2328.36.\n"
     ]
    }
   ],
   "source": [
    "#Calculate the diversified one-day 99\\% VaR for Portfolios C. \n",
    "\n",
    "c_4d = diversified_d_day_p_percent_VaR_delta_normal(df_lstC, N_lstC, 1, 0.99)\n",
    "print (f\"The diversified one-day 99\\% VaR of portfolio C is {c_4d}.\")"
   ]
  },
  {
   "cell_type": "code",
   "execution_count": 16,
   "id": "da4b4cee-2b51-4585-8a69-18776849b58c",
   "metadata": {},
   "outputs": [],
   "source": [
    "#Which portfolio has the higher diversified one-day 99\\% VaR? Why? \n",
    "#Determine and justify which factor/s contributed to that portfolio having a higher diversified VaR over the other."
   ]
  },
  {
   "cell_type": "code",
   "execution_count": 17,
   "id": "95670019-627f-4a5d-a842-88fc23d97ee1",
   "metadata": {
    "jupyter": {
     "source_hidden": true
    },
    "tags": []
   },
   "outputs": [
    {
     "name": "stdout",
     "output_type": "stream",
     "text": [
      "╒═════════════╤════════════════╤═══════════════════╤═══════════════════╕\n",
      "│ Portfolio   │   σ_p (sigmap) │   Portfolio Value │   Diversified VaR │\n",
      "╞═════════════╪════════════════╪═══════════════════╪═══════════════════╡\n",
      "│ B           │        1112.64 │           30737.8 │           2588.39 │\n",
      "├─────────────┼────────────────┼───────────────────┼───────────────────┤\n",
      "│ C           │        1000.86 │           24610   │           2328.36 │\n",
      "╘═════════════╧════════════════╧═══════════════════╧═══════════════════╛\n",
      "╒═════════╤════════════╤════════════════════════════╕\n",
      "│ Stock   │   Variance │   Covariance with stock SM │\n",
      "╞═════════╪════════════╪════════════════════════════╡\n",
      "│ MFC     │ 0.00057557 │                 0.00093117 │\n",
      "├─────────┼────────────┼────────────────────────────┤\n",
      "│ AC      │ 0.00116593 │                 0.00051984 │\n",
      "╘═════════╧════════════╧════════════════════════════╛\n"
     ]
    }
   ],
   "source": [
    "col_names1= [\"Portfolio\", \"σ_p (sigmap)\",\"Portfolio Value\", \"Diversified VaR\"]\n",
    "col_names2=[\"Stock\", \"Variance\", \"Covariance with stock SM\"]\n",
    "port_names = [\"B\",\"C\"]\n",
    "sigma_p = [round(1112.6418920001208,2),round(1000.8632642364951,2)]\n",
    "diverVaR = [ b_2d, c_4d ]\n",
    "covar = [ 0.00093117, 0.00051984 ]\n",
    "stock = [ \"MFC\", \"AC\" ]\n",
    "var = [ 0.00057557, 0.00116593 ]\n",
    "portvalue = [ round(30737.7505197,2), round(24610.000419,2)]\n",
    "\n",
    "data1= zip(port_names , sigma_p, portvalue, diverVaR)\n",
    "data2= zip(stock, var,covar)\n",
    "print(tabulate(data1,headers=col_names1,tablefmt=\"fancy_grid\"))\n",
    "print(tabulate(data2,headers=col_names2,tablefmt=\"fancy_grid\"))"
   ]
  },
  {
   "cell_type": "markdown",
   "id": "5ac03e77-dc1f-4bd4-bb16-190b7c9ac4a9",
   "metadata": {
    "tags": []
   },
   "source": [
    "As shown in the tables above, Porfolio B has a higher diversified VaR with **2588.39**. This can be mainly attributed to **portfolio B's standard deviation (or variance) which is considerably higher than that of Portfolio C.** But computing the portfolio's standard deviation (sigmap) involves the each stock's positions, prices, and the volatility of their returns. Taking this into account, notice that in Portfolio B has a greater **portfolio value** and the covariance between the two stocks in this portfolio covariance is greater than the other two in Portfolio C. Lastly, if we are to consider the stocks of the portfolios, SM is in both portfolios so looking at the variance of the AC and MFC, notice how AC has a higher variance but this was countered by the the higher number of stock (position) by MFC. All of these justified why the diversified VaR of Portfolio B is higher. "
   ]
  },
  {
   "cell_type": "code",
   "execution_count": 18,
   "id": "239ccd2c-b32e-4d2f-8537-ba06c6e2da8e",
   "metadata": {},
   "outputs": [
    {
     "name": "stdout",
     "output_type": "stream",
     "text": [
      "The undiversified three-day 99\\% VaR of portfolio C is 2041.68.\n"
     ]
    }
   ],
   "source": [
    "#Consider Portfolio C. Assume that the three-day volatility of each stock and the covariance of their \n",
    "#returns follow exponentially weighted moving average models with the given decay parameters above.\n",
    "\n",
    "#Calculate the undiversified three-day 99\\% VaR for Portfolio \n",
    "\n",
    "c_5u = undiversified_d_day_p_percent_VaR_delta_normal(df_lstC, N_lstC, 3, 0.99, ewma_par_lstB)\n",
    "print (f\"The undiversified three-day 99\\% VaR of portfolio C is {c_5u}.\")"
   ]
  },
  {
   "cell_type": "code",
   "execution_count": 19,
   "id": "d0dcc944-ef0c-497a-a4ad-1d5529d12fb7",
   "metadata": {},
   "outputs": [
    {
     "name": "stdout",
     "output_type": "stream",
     "text": [
      "The diversified three-day 99\\% VaR of portfolio C is 1606.69.\n"
     ]
    }
   ],
   "source": [
    "#Calculate the diversified three-day 99\\% VaR for Portfolio \n",
    "\n",
    "c_6u = diversified_d_day_p_percent_VaR_delta_normal(df_lstC, N_lstC, 3, 0.99, ewma_par_lstB, covar_ewma_par)\n",
    "print (f\"The diversified three-day 99\\% VaR of portfolio C is {c_6u}.\")"
   ]
  },
  {
   "cell_type": "markdown",
   "id": "29588d72-d9e7-4774-a95d-f6ab17e2e96c",
   "metadata": {},
   "source": [
    "### QUESTION C"
   ]
  },
  {
   "cell_type": "code",
   "execution_count": 20,
   "id": "56ab5142-3fdb-4b68-bcee-2f8c6530733f",
   "metadata": {},
   "outputs": [],
   "source": [
    "#Portfolio D\n",
    "\n",
    "df_lstD = [AC_df, SM_df, MFC_df, MBT_df, GLO_df]\n",
    "N_lstD = [1381, 2468, 2584, 5160, 3922 ]"
   ]
  },
  {
   "cell_type": "code",
   "execution_count": 21,
   "id": "47b86c22-0fc8-45c3-8880-69ecd99ccf31",
   "metadata": {},
   "outputs": [
    {
     "name": "stdout",
     "output_type": "stream",
     "text": [
      "The undiversified five-day 99\\% VaR of portfolio C is 44046.63.\n"
     ]
    }
   ],
   "source": [
    "#Use the five-day logarithmic returns to determine the portfolio's undiversified VaR.\n",
    "\n",
    "d_1u = undiversified_d_day_p_percent_VaR_delta_normal(df_lstD, N_lstD, 5, 0.99)\n",
    "print (f\"The undiversified five-day 99\\% VaR of portfolio C is {d_1u}.\")"
   ]
  },
  {
   "cell_type": "code",
   "execution_count": 22,
   "id": "13d4ddca-3d22-496e-9d71-22f9b867addc",
   "metadata": {},
   "outputs": [
    {
     "name": "stdout",
     "output_type": "stream",
     "text": [
      "The diversified five-day 99\\% VaR of portfolio C is 34122.39.\n"
     ]
    }
   ],
   "source": [
    "#Use the five-day logarithmic returns to determine the portfolio's diversified VaR.\n",
    "\n",
    "d_1d = diversified_d_day_p_percent_VaR_delta_normal(df_lstD, N_lstD, 5, 0.99)\n",
    "print (f\"The diversified five-day 99\\% VaR of portfolio C is {d_1d}.\")"
   ]
  },
  {
   "cell_type": "code",
   "execution_count": 23,
   "id": "883dc71b-6c28-462f-beea-8c6d401b4fb3",
   "metadata": {},
   "outputs": [
    {
     "name": "stdout",
     "output_type": "stream",
     "text": [
      "The benefit of diversification amounts to 9924.24.\n"
     ]
    }
   ],
   "source": [
    "#Compute the benefit of diversification.\n",
    "\n",
    "BoD = round(d_1u - d_1d, 2)\n",
    "print( f\"The benefit of diversification amounts to {BoD}.\")"
   ]
  },
  {
   "cell_type": "code",
   "execution_count": 25,
   "id": "8638eac7-52eb-48cf-8742-44250abd07c9",
   "metadata": {},
   "outputs": [],
   "source": [
    "#Which of the stocks in the portfolio has the highest contribution to the undiversified 5-day 99\\% portfolio VaR? Why? "
   ]
  },
  {
   "cell_type": "code",
   "execution_count": 26,
   "id": "0b2c487f-5cd8-4ff0-a601-dba58b295730",
   "metadata": {
    "jupyter": {
     "source_hidden": true
    },
    "tags": []
   },
   "outputs": [
    {
     "name": "stdout",
     "output_type": "stream",
     "text": [
      "╒═════════╤══════════╤══════╤═══════╤═════════╕\n",
      "│ Stock   │      VaR │    N │   S_0 │   sigma │\n",
      "╞═════════╪══════════╪══════╪═══════╪═════════╡\n",
      "│ AC      │  7656.97 │ 1381 │ 36.2  │ 0.06584 │\n",
      "├─────────┼──────────┼──────┼───────┼─────────┤\n",
      "│ SM      │ 20002.3  │ 2468 │ 20.26 │ 0.17196 │\n",
      "├─────────┼──────────┼──────┼───────┼─────────┤\n",
      "│ MFC     │  6413.17 │ 2584 │ 19.35 │ 0.05513 │\n",
      "├─────────┼──────────┼──────┼───────┼─────────┤\n",
      "│ MBT     │  5045.89 │ 5160 │  9.69 │ 0.04338 │\n",
      "├─────────┼──────────┼──────┼───────┼─────────┤\n",
      "│ GLO     │  4928.3  │ 3922 │ 12.75 │ 0.04236 │\n",
      "╘═════════╧══════════╧══════╧═══════╧═════════╛\n"
     ]
    }
   ],
   "source": [
    "S = []\n",
    "for df in df_lstD:\n",
    "    S=np.append(S, df[\"close\"][0] )\n",
    "        \n",
    "sigmas = []\n",
    "for df in df_lstD:\n",
    "    def get_return(df):\n",
    "        return np.log(df[\"close\"] / df[\"previous\"])\n",
    "    df[\"previous\"]= df[\"close\"].shift(-5)       \n",
    "    df[\"return\"] = df.apply(get_return, axis=1)\n",
    "    sigma = df[\"return\"].std()\n",
    "    sigmas.append(round(sigma,5))\n",
    "    \n",
    "VaRs = []\n",
    "for df,N in zip(df_lstD, N_lstD):\n",
    "    VaRs.append(undiversified_d_day_p_percent_VaR_delta_normal([df], [N], 5, 0.99))\n",
    "\n",
    "df_lstDnames = [\"AC\", \"SM\", \"MFC\", \"MBT\", \"GLO\"]    \n",
    "col_names= [\"Stock\",\"VaR\", \"N\", \"S_0\", \"sigma\"]\n",
    "data= zip(df_lstDnames , VaRs , N_lstD , S ,sigmas)\n",
    "print(tabulate(data,headers=col_names,tablefmt=\"fancy_grid\"))"
   ]
  },
  {
   "cell_type": "markdown",
   "id": "eb23fbcd-a02a-47be-bc4b-5038ff3042c7",
   "metadata": {
    "tags": []
   },
   "source": [
    "#### Note that in the table above, sigma represents the standard deviation of each stock's return.\n",
    "\n",
    "As can be seen in the table, SM has the highest contribution with 5-day VaR amounting to 20,002.30. Partly, this can be due to the stock price (S_0) which is the second highest among the five stocks in the portfolio. Largely, this can be attributed to volatility (sigma, standard deviation) of SM stock's return which is highest among the five stocks.\n",
    "\n"
   ]
  },
  {
   "cell_type": "code",
   "execution_count": null,
   "id": "a0c1e20f-ecbf-4a71-8819-4dccd28f90c1",
   "metadata": {},
   "outputs": [],
   "source": [
    "#Compare the individual VaRs and explain which factor/s led to the stock's VaR contribution."
   ]
  },
  {
   "cell_type": "markdown",
   "id": "23b92951-f360-44eb-829b-57eeca81dbf7",
   "metadata": {},
   "source": [
    "#### With regards to the individual VaR in relation to its contribution to the undiversified portfolio VaR, the following observations are made:\n",
    "\n",
    "1. AC has the second highest contribution amounting to **7656.97** which, despite having the lowest number of stocks, can be due to the fact that it has the highest stock price (S_0).\n",
    "2. As mentioned above, SM stock contributed the highest in the undervisified VaR as it has the highest volatility (sigma, standard deviation) and a not so low number of stocks (higher than AC) and relatively higher stock price than most (second highest). Although it has a huge gap with MBT in terms of number of stocks, this was countered by SM having a very high sigma.\n",
    "3. MFC contributed **6413.17** to the undiversified VaR of the portfolio. Notably, this can be attributed to the combination of higher stock price and standard deviation. Although it has a lower number of stocks than MBT and GLO, these were countered by the two aforementioned feature (stock price and sigma) of stock MFC.\n",
    "4. MBT posted a VaR of **5045.89** which is the second lower contributor to the undiversified portfolio VaR. Because although it has the highest number of stocks (N), its stock prince and sigma is relatively low than most. In fact, its sigma is as low as the lowest sigma.\n",
    "5. Lastly, GLO is the lowest contributor **(4928.30)** stock in the portfolio's VaR which is mainly because it has the lowest volatility (sigma). Although it higher than MBT in stock price but the gap in the number of stock between the two is larger causing its VaR to become lower. In comparison with MFC, GLO may have a higher number of stock but both stock price and sigma of GLO is lower hence a lower VaR for GLO. Its lower VaR than SM is obvious since the two are in the opposite sides in sigma with a relatively lower gap in other aspects. Lastly, it still has a lower VaR than AC since it has a much lower stock price despite having a higher number of stocks in the portfolio."
   ]
  }
 ],
 "metadata": {
  "kernelspec": {
   "display_name": "Python 3 (ipykernel)",
   "language": "python",
   "name": "python3"
  },
  "language_info": {
   "codemirror_mode": {
    "name": "ipython",
    "version": 3
   },
   "file_extension": ".py",
   "mimetype": "text/x-python",
   "name": "python",
   "nbconvert_exporter": "python",
   "pygments_lexer": "ipython3",
   "version": "3.9.12"
  }
 },
 "nbformat": 4,
 "nbformat_minor": 5
}
